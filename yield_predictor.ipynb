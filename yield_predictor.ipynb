{
 "cells": [
  {
   "cell_type": "markdown",
   "metadata": {},
   "source": [
    "## Importing the libraries"
   ]
  },
  {
   "cell_type": "code",
   "execution_count": 1,
   "metadata": {},
   "outputs": [],
   "source": [
    "import numpy as np\n",
    "import matplotlib.pyplot as plt\n",
    "import pandas as pd\n",
    "from sklearn.compose import ColumnTransformer\n",
    "from sklearn.preprocessing import LabelEncoder\n",
    "from sklearn.preprocessing import MinMaxScaler\n",
    "from sklearn.model_selection import train_test_split\n",
    "from sklearn.ensemble import RandomForestRegressor\n",
    "from sklearn.multioutput import MultiOutputRegressor\n",
    "from sklearn.metrics import mean_squared_error\n",
    "from sklearn.metrics import r2_score"
   ]
  },
  {
   "cell_type": "markdown",
   "metadata": {},
   "source": [
    "## importing the dataset"
   ]
  },
  {
   "cell_type": "code",
   "execution_count": 2,
   "metadata": {},
   "outputs": [
    {
     "data": {
      "text/html": [
       "<div>\n",
       "<style scoped>\n",
       "    .dataframe tbody tr th:only-of-type {\n",
       "        vertical-align: middle;\n",
       "    }\n",
       "\n",
       "    .dataframe tbody tr th {\n",
       "        vertical-align: top;\n",
       "    }\n",
       "\n",
       "    .dataframe thead th {\n",
       "        text-align: right;\n",
       "    }\n",
       "</style>\n",
       "<table border=\"1\" class=\"dataframe\">\n",
       "  <thead>\n",
       "    <tr style=\"text-align: right;\">\n",
       "      <th></th>\n",
       "      <th>siteinfor</th>\n",
       "      <th>country</th>\n",
       "      <th>latitude</th>\n",
       "      <th>longitude</th>\n",
       "      <th>elevation</th>\n",
       "      <th>mat</th>\n",
       "      <th>map</th>\n",
       "      <th>samplingdepth</th>\n",
       "      <th>samplingthickness</th>\n",
       "      <th>sandperc</th>\n",
       "      <th>...</th>\n",
       "      <th>covercrop</th>\n",
       "      <th>covercropgroup</th>\n",
       "      <th>graincrop</th>\n",
       "      <th>graincropgroup</th>\n",
       "      <th>fertilization_c</th>\n",
       "      <th>fertilization_t</th>\n",
       "      <th>conservation_type</th>\n",
       "      <th>controldescription</th>\n",
       "      <th>yield_c</th>\n",
       "      <th>yield_t</th>\n",
       "    </tr>\n",
       "  </thead>\n",
       "  <tbody>\n",
       "    <tr>\n",
       "      <th>0</th>\n",
       "      <td>New York</td>\n",
       "      <td>USA</td>\n",
       "      <td>40.71</td>\n",
       "      <td>-74.01</td>\n",
       "      <td>3.5</td>\n",
       "      <td>NaN</td>\n",
       "      <td>NaN</td>\n",
       "      <td>Not-available</td>\n",
       "      <td>Not-available</td>\n",
       "      <td>NaN</td>\n",
       "      <td>...</td>\n",
       "      <td>White_clover</td>\n",
       "      <td>Legume</td>\n",
       "      <td>Bean/Beet/Corn/Bean</td>\n",
       "      <td>MTT</td>\n",
       "      <td>NaN</td>\n",
       "      <td>NaN</td>\n",
       "      <td>CC</td>\n",
       "      <td>Fallow</td>\n",
       "      <td>NaN</td>\n",
       "      <td>NaN</td>\n",
       "    </tr>\n",
       "    <tr>\n",
       "      <th>1</th>\n",
       "      <td>New York</td>\n",
       "      <td>USA</td>\n",
       "      <td>40.71</td>\n",
       "      <td>-74.01</td>\n",
       "      <td>3.5</td>\n",
       "      <td>NaN</td>\n",
       "      <td>NaN</td>\n",
       "      <td>Not-available</td>\n",
       "      <td>Not-available</td>\n",
       "      <td>NaN</td>\n",
       "      <td>...</td>\n",
       "      <td>Vetch</td>\n",
       "      <td>Legume</td>\n",
       "      <td>Bean/Beet/Corn/Bean</td>\n",
       "      <td>MTT</td>\n",
       "      <td>NaN</td>\n",
       "      <td>NaN</td>\n",
       "      <td>CC</td>\n",
       "      <td>Fallow</td>\n",
       "      <td>NaN</td>\n",
       "      <td>NaN</td>\n",
       "    </tr>\n",
       "    <tr>\n",
       "      <th>2</th>\n",
       "      <td>New York</td>\n",
       "      <td>USA</td>\n",
       "      <td>40.71</td>\n",
       "      <td>-74.01</td>\n",
       "      <td>3.5</td>\n",
       "      <td>NaN</td>\n",
       "      <td>NaN</td>\n",
       "      <td>Not-available</td>\n",
       "      <td>Not-available</td>\n",
       "      <td>NaN</td>\n",
       "      <td>...</td>\n",
       "      <td>White_mustard</td>\n",
       "      <td>Brassica</td>\n",
       "      <td>Bean/Beet/Corn/Bean</td>\n",
       "      <td>MTT</td>\n",
       "      <td>NaN</td>\n",
       "      <td>NaN</td>\n",
       "      <td>CC</td>\n",
       "      <td>Fallow</td>\n",
       "      <td>4862.0</td>\n",
       "      <td>3990.0</td>\n",
       "    </tr>\n",
       "    <tr>\n",
       "      <th>3</th>\n",
       "      <td>New York</td>\n",
       "      <td>USA</td>\n",
       "      <td>40.71</td>\n",
       "      <td>-74.01</td>\n",
       "      <td>3.5</td>\n",
       "      <td>NaN</td>\n",
       "      <td>NaN</td>\n",
       "      <td>Not-available</td>\n",
       "      <td>Not-available</td>\n",
       "      <td>NaN</td>\n",
       "      <td>...</td>\n",
       "      <td>Alfalfa</td>\n",
       "      <td>Legume</td>\n",
       "      <td>Bean/Beet/Corn/Bean</td>\n",
       "      <td>MTT</td>\n",
       "      <td>NaN</td>\n",
       "      <td>NaN</td>\n",
       "      <td>CC</td>\n",
       "      <td>Fallow</td>\n",
       "      <td>NaN</td>\n",
       "      <td>NaN</td>\n",
       "    </tr>\n",
       "    <tr>\n",
       "      <th>4</th>\n",
       "      <td>New York</td>\n",
       "      <td>USA</td>\n",
       "      <td>40.71</td>\n",
       "      <td>-74.01</td>\n",
       "      <td>3.5</td>\n",
       "      <td>NaN</td>\n",
       "      <td>NaN</td>\n",
       "      <td>Not-available</td>\n",
       "      <td>Not-available</td>\n",
       "      <td>NaN</td>\n",
       "      <td>...</td>\n",
       "      <td>Ryegrass</td>\n",
       "      <td>Rye</td>\n",
       "      <td>Bean/Beet/Corn/Bean</td>\n",
       "      <td>MTT</td>\n",
       "      <td>NaN</td>\n",
       "      <td>NaN</td>\n",
       "      <td>CC</td>\n",
       "      <td>Fallow</td>\n",
       "      <td>NaN</td>\n",
       "      <td>NaN</td>\n",
       "    </tr>\n",
       "  </tbody>\n",
       "</table>\n",
       "<p>5 rows × 23 columns</p>\n",
       "</div>"
      ],
      "text/plain": [
       "  siteinfor country  latitude  longitude  elevation  mat  map  samplingdepth  \\\n",
       "0  New York     USA     40.71     -74.01        3.5  NaN  NaN  Not-available   \n",
       "1  New York     USA     40.71     -74.01        3.5  NaN  NaN  Not-available   \n",
       "2  New York     USA     40.71     -74.01        3.5  NaN  NaN  Not-available   \n",
       "3  New York     USA     40.71     -74.01        3.5  NaN  NaN  Not-available   \n",
       "4  New York     USA     40.71     -74.01        3.5  NaN  NaN  Not-available   \n",
       "\n",
       "  samplingthickness  sandperc  ...      covercrop covercropgroup  \\\n",
       "0     Not-available       NaN  ...   White_clover         Legume   \n",
       "1     Not-available       NaN  ...          Vetch         Legume   \n",
       "2     Not-available       NaN  ...  White_mustard       Brassica   \n",
       "3     Not-available       NaN  ...        Alfalfa         Legume   \n",
       "4     Not-available       NaN  ...       Ryegrass            Rye   \n",
       "\n",
       "             graincrop graincropgroup fertilization_c fertilization_t  \\\n",
       "0  Bean/Beet/Corn/Bean            MTT             NaN             NaN   \n",
       "1  Bean/Beet/Corn/Bean            MTT             NaN             NaN   \n",
       "2  Bean/Beet/Corn/Bean            MTT             NaN             NaN   \n",
       "3  Bean/Beet/Corn/Bean            MTT             NaN             NaN   \n",
       "4  Bean/Beet/Corn/Bean            MTT             NaN             NaN   \n",
       "\n",
       "  conservation_type controldescription yield_c yield_t  \n",
       "0                CC             Fallow     NaN     NaN  \n",
       "1                CC             Fallow     NaN     NaN  \n",
       "2                CC             Fallow  4862.0  3990.0  \n",
       "3                CC             Fallow     NaN     NaN  \n",
       "4                CC             Fallow     NaN     NaN  \n",
       "\n",
       "[5 rows x 23 columns]"
      ]
     },
     "execution_count": 2,
     "metadata": {},
     "output_type": "execute_result"
    }
   ],
   "source": [
    "df = pd.read_csv('data/Soil_data.csv')\n",
    "df.head()"
   ]
  },
  {
   "cell_type": "code",
   "execution_count": 3,
   "metadata": {},
   "outputs": [
    {
     "name": "stdout",
     "output_type": "stream",
     "text": [
      "<class 'pandas.core.frame.DataFrame'>\n",
      "RangeIndex: 4457 entries, 0 to 4456\n",
      "Data columns (total 23 columns):\n",
      " #   Column              Non-Null Count  Dtype  \n",
      "---  ------              --------------  -----  \n",
      " 0   siteinfor           4457 non-null   object \n",
      " 1   country             4457 non-null   object \n",
      " 2   latitude            4457 non-null   float64\n",
      " 3   longitude           4457 non-null   float64\n",
      " 4   elevation           4457 non-null   float64\n",
      " 5   mat                 582 non-null    float64\n",
      " 6   map                 2070 non-null   float64\n",
      " 7   samplingdepth       4038 non-null   object \n",
      " 8   samplingthickness   3950 non-null   object \n",
      " 9   sandperc            2194 non-null   float64\n",
      " 10  siltperc            2194 non-null   float64\n",
      " 11  texture             3989 non-null   object \n",
      " 12  soilph              2223 non-null   float64\n",
      " 13  covercrop           4457 non-null   object \n",
      " 14  covercropgroup      4457 non-null   object \n",
      " 15  graincrop           4457 non-null   object \n",
      " 16  graincropgroup      4457 non-null   object \n",
      " 17  fertilization_c     2197 non-null   object \n",
      " 18  fertilization_t     1940 non-null   object \n",
      " 19  conservation_type   4457 non-null   object \n",
      " 20  controldescription  4457 non-null   object \n",
      " 21  yield_c             1958 non-null   float64\n",
      " 22  yield_t             1958 non-null   float64\n",
      "dtypes: float64(10), object(13)\n",
      "memory usage: 801.0+ KB\n"
     ]
    }
   ],
   "source": [
    "df.info()"
   ]
  },
  {
   "cell_type": "code",
   "execution_count": 4,
   "metadata": {},
   "outputs": [
    {
     "data": {
      "text/plain": [
       "(1958, 23)"
      ]
     },
     "execution_count": 4,
     "metadata": {},
     "output_type": "execute_result"
    }
   ],
   "source": [
    "df = df.dropna(subset=[df.columns[-2], df.columns[-1]])\n",
    "df.shape"
   ]
  },
  {
   "cell_type": "code",
   "execution_count": 5,
   "metadata": {},
   "outputs": [
    {
     "name": "stdout",
     "output_type": "stream",
     "text": [
      "<class 'pandas.core.frame.DataFrame'>\n",
      "Index: 1958 entries, 2 to 4456\n",
      "Data columns (total 19 columns):\n",
      " #   Column              Non-Null Count  Dtype  \n",
      "---  ------              --------------  -----  \n",
      " 0   siteinfor           1958 non-null   object \n",
      " 1   latitude            1958 non-null   float64\n",
      " 2   longitude           1958 non-null   float64\n",
      " 3   elevation           1958 non-null   float64\n",
      " 4   map                 1124 non-null   float64\n",
      " 5   samplingdepth       1631 non-null   object \n",
      " 6   samplingthickness   1623 non-null   object \n",
      " 7   sandperc            1066 non-null   float64\n",
      " 8   siltperc            1066 non-null   float64\n",
      " 9   texture             1663 non-null   object \n",
      " 10  soilph              1190 non-null   float64\n",
      " 11  covercrop           1958 non-null   object \n",
      " 12  covercropgroup      1958 non-null   object \n",
      " 13  graincrop           1958 non-null   object \n",
      " 14  graincropgroup      1958 non-null   object \n",
      " 15  conservation_type   1958 non-null   object \n",
      " 16  controldescription  1958 non-null   object \n",
      " 17  yield_c             1958 non-null   float64\n",
      " 18  yield_t             1958 non-null   float64\n",
      "dtypes: float64(9), object(10)\n",
      "memory usage: 305.9+ KB\n"
     ]
    }
   ],
   "source": [
    "df.drop(['mat','country','fertilization_c','fertilization_t'] , axis = 1 , inplace = True)\n",
    "df.info()"
   ]
  },
  {
   "cell_type": "code",
   "execution_count": 6,
   "metadata": {},
   "outputs": [
    {
     "name": "stdout",
     "output_type": "stream",
     "text": [
      "<class 'pandas.core.frame.DataFrame'>\n",
      "Index: 1958 entries, 2 to 4456\n",
      "Data columns (total 19 columns):\n",
      " #   Column              Non-Null Count  Dtype  \n",
      "---  ------              --------------  -----  \n",
      " 0   siteinfor           1958 non-null   object \n",
      " 1   latitude            1958 non-null   float64\n",
      " 2   longitude           1958 non-null   float64\n",
      " 3   elevation           1958 non-null   float64\n",
      " 4   map                 1958 non-null   float64\n",
      " 5   samplingdepth       1958 non-null   object \n",
      " 6   samplingthickness   1958 non-null   object \n",
      " 7   sandperc            1958 non-null   float64\n",
      " 8   siltperc            1958 non-null   float64\n",
      " 9   texture             1958 non-null   object \n",
      " 10  soilph              1958 non-null   float64\n",
      " 11  covercrop           1958 non-null   object \n",
      " 12  covercropgroup      1958 non-null   object \n",
      " 13  graincrop           1958 non-null   object \n",
      " 14  graincropgroup      1958 non-null   object \n",
      " 15  conservation_type   1958 non-null   object \n",
      " 16  controldescription  1958 non-null   object \n",
      " 17  yield_c             1958 non-null   float64\n",
      " 18  yield_t             1958 non-null   float64\n",
      "dtypes: float64(9), object(10)\n",
      "memory usage: 305.9+ KB\n"
     ]
    }
   ],
   "source": [
    "columns_to_fill = ['map','sandperc','siltperc','soilph']\n",
    "columns_to_replace = ['samplingdepth', 'samplingthickness']\n",
    "\n",
    "for columns in columns_to_replace:\n",
    "    df[columns].replace('Not-available', 'Not_available', inplace = True)\n",
    "\n",
    "df['texture'].replace('NotAvailable','Not_available',inplace=True)\n",
    "\n",
    "for columns in columns_to_fill:\n",
    "    df[columns].fillna(df[columns].mean(), inplace = True)\n",
    "\n",
    "df['samplingdepth'].fillna('Not_available',inplace=True)\n",
    "df['samplingthickness'].fillna('Not_available',inplace=True)\n",
    "df['texture'].fillna('Not_available',inplace=True)\n",
    "\n",
    "df.info()"
   ]
  },
  {
   "cell_type": "code",
   "execution_count": 7,
   "metadata": {},
   "outputs": [
    {
     "name": "stdout",
     "output_type": "stream",
     "text": [
      "(1958, 16)\n"
     ]
    }
   ],
   "source": [
    "X = df.iloc[:,1:-2].values\n",
    "Y = df.iloc[:,-2:].values\n",
    "print(X.shape)"
   ]
  },
  {
   "cell_type": "markdown",
   "metadata": {},
   "source": [
    "## Encoding categorical data"
   ]
  },
  {
   "cell_type": "code",
   "execution_count": 8,
   "metadata": {},
   "outputs": [],
   "source": [
    "columns_to_encode = [4,5,8,10,11,12,13,14,15]\n",
    "\n",
    "label_encoder = LabelEncoder()\n",
    "numeric_transformer = MinMaxScaler()  \n",
    "\n",
    "for col_index in columns_to_encode:\n",
    "    X[:, col_index] = label_encoder.fit_transform(X[:, col_index])\n",
    "\n",
    "ct = ColumnTransformer(transformers = [('num', numeric_transformer, [0,1,2,3,6,7,9])], remainder='passthrough')\n",
    "\n",
    "X = np.array(ct.fit_transform(X))\n",
    "Y = np.array(Y)"
   ]
  },
  {
   "cell_type": "code",
   "execution_count": 9,
   "metadata": {},
   "outputs": [
    {
     "name": "stdout",
     "output_type": "stream",
     "text": [
      "(1958, 16)\n",
      "(1958, 2)\n"
     ]
    }
   ],
   "source": [
    "print(X.shape)\n",
    "print(Y.shape)"
   ]
  },
  {
   "cell_type": "markdown",
   "metadata": {},
   "source": [
    "## Splitting the Dataset into train and test"
   ]
  },
  {
   "cell_type": "code",
   "execution_count": 10,
   "metadata": {},
   "outputs": [],
   "source": [
    "X_train, X_test, y_train, y_test = train_test_split(X, Y, test_size = 0.2, random_state = 0)"
   ]
  },
  {
   "cell_type": "markdown",
   "metadata": {},
   "source": [
    "## Training the model on the  train dataset"
   ]
  },
  {
   "cell_type": "code",
   "execution_count": 11,
   "metadata": {},
   "outputs": [
    {
     "data": {
      "text/html": [
       "<style>#sk-container-id-1 {color: black;}#sk-container-id-1 pre{padding: 0;}#sk-container-id-1 div.sk-toggleable {background-color: white;}#sk-container-id-1 label.sk-toggleable__label {cursor: pointer;display: block;width: 100%;margin-bottom: 0;padding: 0.3em;box-sizing: border-box;text-align: center;}#sk-container-id-1 label.sk-toggleable__label-arrow:before {content: \"▸\";float: left;margin-right: 0.25em;color: #696969;}#sk-container-id-1 label.sk-toggleable__label-arrow:hover:before {color: black;}#sk-container-id-1 div.sk-estimator:hover label.sk-toggleable__label-arrow:before {color: black;}#sk-container-id-1 div.sk-toggleable__content {max-height: 0;max-width: 0;overflow: hidden;text-align: left;background-color: #f0f8ff;}#sk-container-id-1 div.sk-toggleable__content pre {margin: 0.2em;color: black;border-radius: 0.25em;background-color: #f0f8ff;}#sk-container-id-1 input.sk-toggleable__control:checked~div.sk-toggleable__content {max-height: 200px;max-width: 100%;overflow: auto;}#sk-container-id-1 input.sk-toggleable__control:checked~label.sk-toggleable__label-arrow:before {content: \"▾\";}#sk-container-id-1 div.sk-estimator input.sk-toggleable__control:checked~label.sk-toggleable__label {background-color: #d4ebff;}#sk-container-id-1 div.sk-label input.sk-toggleable__control:checked~label.sk-toggleable__label {background-color: #d4ebff;}#sk-container-id-1 input.sk-hidden--visually {border: 0;clip: rect(1px 1px 1px 1px);clip: rect(1px, 1px, 1px, 1px);height: 1px;margin: -1px;overflow: hidden;padding: 0;position: absolute;width: 1px;}#sk-container-id-1 div.sk-estimator {font-family: monospace;background-color: #f0f8ff;border: 1px dotted black;border-radius: 0.25em;box-sizing: border-box;margin-bottom: 0.5em;}#sk-container-id-1 div.sk-estimator:hover {background-color: #d4ebff;}#sk-container-id-1 div.sk-parallel-item::after {content: \"\";width: 100%;border-bottom: 1px solid gray;flex-grow: 1;}#sk-container-id-1 div.sk-label:hover label.sk-toggleable__label {background-color: #d4ebff;}#sk-container-id-1 div.sk-serial::before {content: \"\";position: absolute;border-left: 1px solid gray;box-sizing: border-box;top: 0;bottom: 0;left: 50%;z-index: 0;}#sk-container-id-1 div.sk-serial {display: flex;flex-direction: column;align-items: center;background-color: white;padding-right: 0.2em;padding-left: 0.2em;position: relative;}#sk-container-id-1 div.sk-item {position: relative;z-index: 1;}#sk-container-id-1 div.sk-parallel {display: flex;align-items: stretch;justify-content: center;background-color: white;position: relative;}#sk-container-id-1 div.sk-item::before, #sk-container-id-1 div.sk-parallel-item::before {content: \"\";position: absolute;border-left: 1px solid gray;box-sizing: border-box;top: 0;bottom: 0;left: 50%;z-index: -1;}#sk-container-id-1 div.sk-parallel-item {display: flex;flex-direction: column;z-index: 1;position: relative;background-color: white;}#sk-container-id-1 div.sk-parallel-item:first-child::after {align-self: flex-end;width: 50%;}#sk-container-id-1 div.sk-parallel-item:last-child::after {align-self: flex-start;width: 50%;}#sk-container-id-1 div.sk-parallel-item:only-child::after {width: 0;}#sk-container-id-1 div.sk-dashed-wrapped {border: 1px dashed gray;margin: 0 0.4em 0.5em 0.4em;box-sizing: border-box;padding-bottom: 0.4em;background-color: white;}#sk-container-id-1 div.sk-label label {font-family: monospace;font-weight: bold;display: inline-block;line-height: 1.2em;}#sk-container-id-1 div.sk-label-container {text-align: center;}#sk-container-id-1 div.sk-container {/* jupyter's `normalize.less` sets `[hidden] { display: none; }` but bootstrap.min.css set `[hidden] { display: none !important; }` so we also need the `!important` here to be able to override the default hidden behavior on the sphinx rendered scikit-learn.org. See: https://github.com/scikit-learn/scikit-learn/issues/21755 */display: inline-block !important;position: relative;}#sk-container-id-1 div.sk-text-repr-fallback {display: none;}</style><div id=\"sk-container-id-1\" class=\"sk-top-container\"><div class=\"sk-text-repr-fallback\"><pre>MultiOutputRegressor(estimator=RandomForestRegressor())</pre><b>In a Jupyter environment, please rerun this cell to show the HTML representation or trust the notebook. <br />On GitHub, the HTML representation is unable to render, please try loading this page with nbviewer.org.</b></div><div class=\"sk-container\" hidden><div class=\"sk-item sk-dashed-wrapped\"><div class=\"sk-label-container\"><div class=\"sk-label sk-toggleable\"><input class=\"sk-toggleable__control sk-hidden--visually\" id=\"sk-estimator-id-1\" type=\"checkbox\" ><label for=\"sk-estimator-id-1\" class=\"sk-toggleable__label sk-toggleable__label-arrow\">MultiOutputRegressor</label><div class=\"sk-toggleable__content\"><pre>MultiOutputRegressor(estimator=RandomForestRegressor())</pre></div></div></div><div class=\"sk-parallel\"><div class=\"sk-parallel-item\"><div class=\"sk-item\"><div class=\"sk-label-container\"><div class=\"sk-label sk-toggleable\"><input class=\"sk-toggleable__control sk-hidden--visually\" id=\"sk-estimator-id-2\" type=\"checkbox\" ><label for=\"sk-estimator-id-2\" class=\"sk-toggleable__label sk-toggleable__label-arrow\">estimator: RandomForestRegressor</label><div class=\"sk-toggleable__content\"><pre>RandomForestRegressor()</pre></div></div></div><div class=\"sk-serial\"><div class=\"sk-item\"><div class=\"sk-estimator sk-toggleable\"><input class=\"sk-toggleable__control sk-hidden--visually\" id=\"sk-estimator-id-3\" type=\"checkbox\" ><label for=\"sk-estimator-id-3\" class=\"sk-toggleable__label sk-toggleable__label-arrow\">RandomForestRegressor</label><div class=\"sk-toggleable__content\"><pre>RandomForestRegressor()</pre></div></div></div></div></div></div></div></div></div></div>"
      ],
      "text/plain": [
       "MultiOutputRegressor(estimator=RandomForestRegressor())"
      ]
     },
     "execution_count": 11,
     "metadata": {},
     "output_type": "execute_result"
    }
   ],
   "source": [
    "base_regressor = RandomForestRegressor()\n",
    "\n",
    "multi_output_regressor = MultiOutputRegressor(base_regressor)\n",
    "multi_output_regressor.fit(X_train, y_train)"
   ]
  },
  {
   "cell_type": "markdown",
   "metadata": {},
   "source": [
    "## predicting the test results"
   ]
  },
  {
   "cell_type": "code",
   "execution_count": 12,
   "metadata": {},
   "outputs": [
    {
     "name": "stdout",
     "output_type": "stream",
     "text": [
      "[[2626.33 2765.05 2710.   3360.  ]\n",
      " [7984.08 7846.91 7997.   7827.  ]\n",
      " [3455.68 5742.03 4700.   5400.  ]\n",
      " ...\n",
      " [1558.01 2411.88 1093.16 1600.  ]\n",
      " [ 194.73 1158.12  221.    639.  ]\n",
      " [ 245.52  240.09  445.    551.  ]]\n"
     ]
    }
   ],
   "source": [
    "y_pred = multi_output_regressor.predict(X_test)\n",
    "np.set_printoptions(precision=2)\n",
    "\n",
    "comparison = np.concatenate((y_pred, y_test), axis=1)\n",
    "print(comparison)"
   ]
  },
  {
   "cell_type": "code",
   "execution_count": 35,
   "metadata": {},
   "outputs": [
    {
     "name": "stdout",
     "output_type": "stream",
     "text": [
      "Yield_C - MSE: 22885866.718722187\n",
      "Yield_T - MSE: 23195970.353464205\n",
      "Overall MSE: 23040918.536093198\n"
     ]
    }
   ],
   "source": [
    "mse_yield_c = mean_squared_error(y_test[:, 0], y_pred[:, 0])\n",
    "mse_yield_t = mean_squared_error(y_test[:, 1], y_pred[:, 1])\n",
    "\n",
    "overall_mse = (mse_yield_c + mse_yield_t) / 2 \n",
    "\n",
    "print(f\"Yield_C - MSE: {mse_yield_c}\")\n",
    "print(f\"Yield_T - MSE: {mse_yield_t}\")\n",
    "print(f\"Overall MSE: {overall_mse}\")"
   ]
  },
  {
   "cell_type": "code",
   "execution_count": 13,
   "metadata": {},
   "outputs": [
    {
     "name": "stdout",
     "output_type": "stream",
     "text": [
      "Yield_C - R2: 0.7904631544735995\n",
      "Yield_T - R2: 0.8064062580067703\n",
      "Overall R2: 0.7984347062401849\n"
     ]
    }
   ],
   "source": [
    "r2_yield_c = r2_score(y_test[:, 0], y_pred[:, 0])\n",
    "r2_yield_t = r2_score(y_test[:, 1], y_pred[:, 1])\n",
    "\n",
    "overall_r2 = (r2_yield_c + r2_yield_t) / 2\n",
    "\n",
    "print(f\"Yield_C - R2: {r2_yield_c}\")\n",
    "print(f\"Yield_T - R2: {r2_yield_t}\")\n",
    "print(f\"Overall R2: {overall_r2}\")"
   ]
  },
  {
   "cell_type": "code",
   "execution_count": 37,
   "metadata": {},
   "outputs": [
    {
     "name": "stdout",
     "output_type": "stream",
     "text": [
      "<class 'pandas.core.frame.DataFrame'>\n",
      "Index: 1958 entries, 2 to 4456\n",
      "Data columns (total 19 columns):\n",
      " #   Column              Non-Null Count  Dtype  \n",
      "---  ------              --------------  -----  \n",
      " 0   siteinfor           1958 non-null   object \n",
      " 1   latitude            1958 non-null   float64\n",
      " 2   longitude           1958 non-null   float64\n",
      " 3   elevation           1958 non-null   float64\n",
      " 4   map                 1958 non-null   float64\n",
      " 5   samplingdepth       1958 non-null   object \n",
      " 6   samplingthickness   1958 non-null   object \n",
      " 7   sandperc            1958 non-null   float64\n",
      " 8   siltperc            1958 non-null   float64\n",
      " 9   texture             1958 non-null   object \n",
      " 10  soilph              1958 non-null   float64\n",
      " 11  covercrop           1958 non-null   object \n",
      " 12  covercropgroup      1958 non-null   object \n",
      " 13  graincrop           1958 non-null   object \n",
      " 14  graincropgroup      1958 non-null   object \n",
      " 15  conservation_type   1958 non-null   object \n",
      " 16  controldescription  1958 non-null   object \n",
      " 17  yield_c             1958 non-null   float64\n",
      " 18  yield_t             1958 non-null   float64\n",
      "dtypes: float64(9), object(10)\n",
      "memory usage: 305.9+ KB\n"
     ]
    }
   ],
   "source": [
    "df.info()"
   ]
  },
  {
   "cell_type": "code",
   "execution_count": 14,
   "metadata": {},
   "outputs": [
    {
     "data": {
      "text/plain": [
       "<Axes: xlabel='siteinfor'>"
      ]
     },
     "execution_count": 14,
     "metadata": {},
     "output_type": "execute_result"
    },
    {
     "data": {
      "image/png": "[encoded data removed]",
      "text/plain": [
       "<Figure size 640x480 with 1 Axes>"
      ]
     },
     "metadata": {},
     "output_type": "display_data"
    }
   ],
   "source": [
    "df.sample(n=20).plot(x=\"siteinfor\", y=[\"yield_c\", \"yield_t\"], kind=\"bar\")"
   ]
  }
 ],
 "metadata": {
  "kernelspec": {
   "display_name": "codsoft",
   "language": "python",
   "name": "codsoft"
  },
  "language_info": {
   "codemirror_mode": {
    "name": "ipython",
    "version": 3
   },
   "file_extension": ".py",
   "mimetype": "text/x-python",
   "name": "python",
   "nbconvert_exporter": "python",
   "pygments_lexer": "ipython3",
   "version": "3.11.6"
  }
 },
 "nbformat": 4,
 "nbformat_minor": 4
}
