{
 "cells": [
  {
   "cell_type": "markdown",
   "metadata": {},
   "source": [
    "## Importing the libraries"
   ]
  },
  {
   "cell_type": "code",
   "execution_count": 283,
   "metadata": {},
   "outputs": [],
   "source": [
    "import numpy as np\n",
    "import matplotlib.pyplot as plt\n",
    "import pandas as pd\n",
    "from sklearn.compose import ColumnTransformer\n",
    "from sklearn.preprocessing import LabelEncoder\n",
    "from sklearn.preprocessing import MinMaxScaler\n",
    "from sklearn.model_selection import train_test_split\n",
    "from sklearn.ensemble import RandomForestRegressor\n",
    "from sklearn.multioutput import MultiOutputRegressor\n",
    "from sklearn.metrics import mean_squared_error\n",
    "from sklearn.metrics import r2_score\n"
   ]
  },
  {
   "cell_type": "markdown",
   "metadata": {},
   "source": [
    "## importing the dataset"
   ]
  },
  {
   "cell_type": "code",
   "execution_count": 284,
   "metadata": {},
   "outputs": [
    {
     "data": {
      "text/html": [
       "<div>\n",
       "<style scoped>\n",
       "    .dataframe tbody tr th:only-of-type {\n",
       "        vertical-align: middle;\n",
       "    }\n",
       "\n",
       "    .dataframe tbody tr th {\n",
       "        vertical-align: top;\n",
       "    }\n",
       "\n",
       "    .dataframe thead th {\n",
       "        text-align: right;\n",
       "    }\n",
       "</style>\n",
       "<table border=\"1\" class=\"dataframe\">\n",
       "  <thead>\n",
       "    <tr style=\"text-align: right;\">\n",
       "      <th></th>\n",
       "      <th>Unnamed: 0</th>\n",
       "      <th>SiteInfor</th>\n",
       "      <th>Country</th>\n",
       "      <th>Latitude</th>\n",
       "      <th>Longitude</th>\n",
       "      <th>Elevation</th>\n",
       "      <th>MAT</th>\n",
       "      <th>MAP</th>\n",
       "      <th>SamplingDepth</th>\n",
       "      <th>SamplingThickness</th>\n",
       "      <th>...</th>\n",
       "      <th>CoverCrop</th>\n",
       "      <th>CoverCropGroup</th>\n",
       "      <th>GrainCrop</th>\n",
       "      <th>GrainCropGroup</th>\n",
       "      <th>Fertilization_C</th>\n",
       "      <th>Fertilization_T</th>\n",
       "      <th>Conservation_Type</th>\n",
       "      <th>ControlDescription</th>\n",
       "      <th>Yield_C</th>\n",
       "      <th>Yield_T</th>\n",
       "    </tr>\n",
       "  </thead>\n",
       "  <tbody>\n",
       "    <tr>\n",
       "      <th>0</th>\n",
       "      <td>0</td>\n",
       "      <td>New York</td>\n",
       "      <td>USA</td>\n",
       "      <td>40.71</td>\n",
       "      <td>-74.01</td>\n",
       "      <td>3.5</td>\n",
       "      <td>NaN</td>\n",
       "      <td>NaN</td>\n",
       "      <td>Not-available</td>\n",
       "      <td>Not-available</td>\n",
       "      <td>...</td>\n",
       "      <td>White_clover</td>\n",
       "      <td>Legume</td>\n",
       "      <td>Bean/Beet/Corn/Bean</td>\n",
       "      <td>MTT</td>\n",
       "      <td>NaN</td>\n",
       "      <td>NaN</td>\n",
       "      <td>CC</td>\n",
       "      <td>Fallow</td>\n",
       "      <td>NaN</td>\n",
       "      <td>NaN</td>\n",
       "    </tr>\n",
       "    <tr>\n",
       "      <th>1</th>\n",
       "      <td>1</td>\n",
       "      <td>New York</td>\n",
       "      <td>USA</td>\n",
       "      <td>40.71</td>\n",
       "      <td>-74.01</td>\n",
       "      <td>3.5</td>\n",
       "      <td>NaN</td>\n",
       "      <td>NaN</td>\n",
       "      <td>Not-available</td>\n",
       "      <td>Not-available</td>\n",
       "      <td>...</td>\n",
       "      <td>Vetch</td>\n",
       "      <td>Legume</td>\n",
       "      <td>Bean/Beet/Corn/Bean</td>\n",
       "      <td>MTT</td>\n",
       "      <td>NaN</td>\n",
       "      <td>NaN</td>\n",
       "      <td>CC</td>\n",
       "      <td>Fallow</td>\n",
       "      <td>NaN</td>\n",
       "      <td>NaN</td>\n",
       "    </tr>\n",
       "    <tr>\n",
       "      <th>2</th>\n",
       "      <td>2</td>\n",
       "      <td>New York</td>\n",
       "      <td>USA</td>\n",
       "      <td>40.71</td>\n",
       "      <td>-74.01</td>\n",
       "      <td>3.5</td>\n",
       "      <td>NaN</td>\n",
       "      <td>NaN</td>\n",
       "      <td>Not-available</td>\n",
       "      <td>Not-available</td>\n",
       "      <td>...</td>\n",
       "      <td>White_mustard</td>\n",
       "      <td>Brassica</td>\n",
       "      <td>Bean/Beet/Corn/Bean</td>\n",
       "      <td>MTT</td>\n",
       "      <td>NaN</td>\n",
       "      <td>NaN</td>\n",
       "      <td>CC</td>\n",
       "      <td>Fallow</td>\n",
       "      <td>4862.0</td>\n",
       "      <td>3990.0</td>\n",
       "    </tr>\n",
       "    <tr>\n",
       "      <th>3</th>\n",
       "      <td>3</td>\n",
       "      <td>New York</td>\n",
       "      <td>USA</td>\n",
       "      <td>40.71</td>\n",
       "      <td>-74.01</td>\n",
       "      <td>3.5</td>\n",
       "      <td>NaN</td>\n",
       "      <td>NaN</td>\n",
       "      <td>Not-available</td>\n",
       "      <td>Not-available</td>\n",
       "      <td>...</td>\n",
       "      <td>Alfalfa</td>\n",
       "      <td>Legume</td>\n",
       "      <td>Bean/Beet/Corn/Bean</td>\n",
       "      <td>MTT</td>\n",
       "      <td>NaN</td>\n",
       "      <td>NaN</td>\n",
       "      <td>CC</td>\n",
       "      <td>Fallow</td>\n",
       "      <td>NaN</td>\n",
       "      <td>NaN</td>\n",
       "    </tr>\n",
       "    <tr>\n",
       "      <th>4</th>\n",
       "      <td>4</td>\n",
       "      <td>New York</td>\n",
       "      <td>USA</td>\n",
       "      <td>40.71</td>\n",
       "      <td>-74.01</td>\n",
       "      <td>3.5</td>\n",
       "      <td>NaN</td>\n",
       "      <td>NaN</td>\n",
       "      <td>Not-available</td>\n",
       "      <td>Not-available</td>\n",
       "      <td>...</td>\n",
       "      <td>Ryegrass</td>\n",
       "      <td>Rye</td>\n",
       "      <td>Bean/Beet/Corn/Bean</td>\n",
       "      <td>MTT</td>\n",
       "      <td>NaN</td>\n",
       "      <td>NaN</td>\n",
       "      <td>CC</td>\n",
       "      <td>Fallow</td>\n",
       "      <td>NaN</td>\n",
       "      <td>NaN</td>\n",
       "    </tr>\n",
       "  </tbody>\n",
       "</table>\n",
       "<p>5 rows × 24 columns</p>\n",
       "</div>"
      ],
      "text/plain": [
       "   Unnamed: 0 SiteInfor Country  Latitude  Longitude  Elevation  MAT  MAP  \\\n",
       "0           0  New York     USA     40.71     -74.01        3.5  NaN  NaN   \n",
       "1           1  New York     USA     40.71     -74.01        3.5  NaN  NaN   \n",
       "2           2  New York     USA     40.71     -74.01        3.5  NaN  NaN   \n",
       "3           3  New York     USA     40.71     -74.01        3.5  NaN  NaN   \n",
       "4           4  New York     USA     40.71     -74.01        3.5  NaN  NaN   \n",
       "\n",
       "   SamplingDepth SamplingThickness  ...      CoverCrop  CoverCropGroup  \\\n",
       "0  Not-available     Not-available  ...   White_clover          Legume   \n",
       "1  Not-available     Not-available  ...          Vetch          Legume   \n",
       "2  Not-available     Not-available  ...  White_mustard        Brassica   \n",
       "3  Not-available     Not-available  ...        Alfalfa          Legume   \n",
       "4  Not-available     Not-available  ...       Ryegrass             Rye   \n",
       "\n",
       "             GrainCrop  GrainCropGroup Fertilization_C Fertilization_T  \\\n",
       "0  Bean/Beet/Corn/Bean             MTT             NaN             NaN   \n",
       "1  Bean/Beet/Corn/Bean             MTT             NaN             NaN   \n",
       "2  Bean/Beet/Corn/Bean             MTT             NaN             NaN   \n",
       "3  Bean/Beet/Corn/Bean             MTT             NaN             NaN   \n",
       "4  Bean/Beet/Corn/Bean             MTT             NaN             NaN   \n",
       "\n",
       "  Conservation_Type ControlDescription Yield_C Yield_T  \n",
       "0                CC             Fallow     NaN     NaN  \n",
       "1                CC             Fallow     NaN     NaN  \n",
       "2                CC             Fallow  4862.0  3990.0  \n",
       "3                CC             Fallow     NaN     NaN  \n",
       "4                CC             Fallow     NaN     NaN  \n",
       "\n",
       "[5 rows x 24 columns]"
      ]
     },
     "execution_count": 284,
     "metadata": {},
     "output_type": "execute_result"
    }
   ],
   "source": [
    "df = pd.read_csv('data/Soil_data.csv')\n",
    "df.head()"
   ]
  },
  {
   "cell_type": "code",
   "execution_count": 285,
   "metadata": {},
   "outputs": [
    {
     "name": "stdout",
     "output_type": "stream",
     "text": [
      "<class 'pandas.core.frame.DataFrame'>\n",
      "RangeIndex: 4457 entries, 0 to 4456\n",
      "Data columns (total 24 columns):\n",
      " #   Column              Non-Null Count  Dtype  \n",
      "---  ------              --------------  -----  \n",
      " 0   Unnamed: 0          4457 non-null   int64  \n",
      " 1   SiteInfor           4457 non-null   object \n",
      " 2   Country             4457 non-null   object \n",
      " 3   Latitude            4457 non-null   float64\n",
      " 4   Longitude           4457 non-null   float64\n",
      " 5   Elevation           4457 non-null   float64\n",
      " 6   MAT                 582 non-null    float64\n",
      " 7   MAP                 2070 non-null   float64\n",
      " 8   SamplingDepth       4038 non-null   object \n",
      " 9   SamplingThickness   3950 non-null   object \n",
      " 10  SandPerc            2194 non-null   float64\n",
      " 11  SiltPerc            2194 non-null   float64\n",
      " 12  Texture             3989 non-null   object \n",
      " 13  SoilpH              2223 non-null   float64\n",
      " 14  CoverCrop           4457 non-null   object \n",
      " 15  CoverCropGroup      4457 non-null   object \n",
      " 16  GrainCrop           4457 non-null   object \n",
      " 17  GrainCropGroup      4457 non-null   object \n",
      " 18  Fertilization_C     2197 non-null   object \n",
      " 19  Fertilization_T     1940 non-null   object \n",
      " 20  Conservation_Type   4457 non-null   object \n",
      " 21  ControlDescription  4457 non-null   object \n",
      " 22  Yield_C             1958 non-null   float64\n",
      " 23  Yield_T             1958 non-null   float64\n",
      "dtypes: float64(10), int64(1), object(13)\n",
      "memory usage: 835.8+ KB\n"
     ]
    }
   ],
   "source": [
    "df.info()"
   ]
  },
  {
   "cell_type": "code",
   "execution_count": 286,
   "metadata": {},
   "outputs": [
    {
     "data": {
      "text/plain": [
       "(1958, 24)"
      ]
     },
     "execution_count": 286,
     "metadata": {},
     "output_type": "execute_result"
    }
   ],
   "source": [
    "df = df.dropna(subset=[df.columns[-2], df.columns[-1]])\n",
    "df.shape"
   ]
  },
  {
   "cell_type": "code",
   "execution_count": 287,
   "metadata": {},
   "outputs": [
    {
     "name": "stdout",
     "output_type": "stream",
     "text": [
      "<class 'pandas.core.frame.DataFrame'>\n",
      "Index: 1958 entries, 2 to 4456\n",
      "Data columns (total 18 columns):\n",
      " #   Column              Non-Null Count  Dtype  \n",
      "---  ------              --------------  -----  \n",
      " 0   Latitude            1958 non-null   float64\n",
      " 1   Longitude           1958 non-null   float64\n",
      " 2   Elevation           1958 non-null   float64\n",
      " 3   MAP                 1124 non-null   float64\n",
      " 4   SamplingDepth       1631 non-null   object \n",
      " 5   SamplingThickness   1623 non-null   object \n",
      " 6   SandPerc            1066 non-null   float64\n",
      " 7   SiltPerc            1066 non-null   float64\n",
      " 8   Texture             1663 non-null   object \n",
      " 9   SoilpH              1190 non-null   float64\n",
      " 10  CoverCrop           1958 non-null   object \n",
      " 11  CoverCropGroup      1958 non-null   object \n",
      " 12  GrainCrop           1958 non-null   object \n",
      " 13  GrainCropGroup      1958 non-null   object \n",
      " 14  Conservation_Type   1958 non-null   object \n",
      " 15  ControlDescription  1958 non-null   object \n",
      " 16  Yield_C             1958 non-null   float64\n",
      " 17  Yield_T             1958 non-null   float64\n",
      "dtypes: float64(9), object(9)\n",
      "memory usage: 290.6+ KB\n"
     ]
    }
   ],
   "source": [
    "df.drop(['MAT','SiteInfor','Country','Fertilization_C','Fertilization_T', 'Unnamed: 0'] , axis = 1 , inplace = True)\n",
    "df.info()"
   ]
  },
  {
   "cell_type": "code",
   "execution_count": 288,
   "metadata": {},
   "outputs": [
    {
     "name": "stdout",
     "output_type": "stream",
     "text": [
      "<class 'pandas.core.frame.DataFrame'>\n",
      "Index: 1958 entries, 2 to 4456\n",
      "Data columns (total 18 columns):\n",
      " #   Column              Non-Null Count  Dtype  \n",
      "---  ------              --------------  -----  \n",
      " 0   Latitude            1958 non-null   float64\n",
      " 1   Longitude           1958 non-null   float64\n",
      " 2   Elevation           1958 non-null   float64\n",
      " 3   MAP                 1958 non-null   float64\n",
      " 4   SamplingDepth       1958 non-null   object \n",
      " 5   SamplingThickness   1958 non-null   object \n",
      " 6   SandPerc            1958 non-null   float64\n",
      " 7   SiltPerc            1958 non-null   float64\n",
      " 8   Texture             1958 non-null   object \n",
      " 9   SoilpH              1958 non-null   float64\n",
      " 10  CoverCrop           1958 non-null   object \n",
      " 11  CoverCropGroup      1958 non-null   object \n",
      " 12  GrainCrop           1958 non-null   object \n",
      " 13  GrainCropGroup      1958 non-null   object \n",
      " 14  Conservation_Type   1958 non-null   object \n",
      " 15  ControlDescription  1958 non-null   object \n",
      " 16  Yield_C             1958 non-null   float64\n",
      " 17  Yield_T             1958 non-null   float64\n",
      "dtypes: float64(9), object(9)\n",
      "memory usage: 290.6+ KB\n"
     ]
    }
   ],
   "source": [
    "columns_to_fill = ['MAP','SandPerc','SiltPerc','SoilpH']\n",
    "columns_to_replace = ['SamplingDepth', 'SamplingThickness']\n",
    "\n",
    "for columns in columns_to_replace:\n",
    "    df[columns].replace('Not-available', 'Not_available', inplace = True)\n",
    "\n",
    "df['Texture'].replace('NotAvailable','Not_available',inplace=True)\n",
    "\n",
    "for columns in columns_to_fill:\n",
    "    df[columns].fillna(df[columns].mean(), inplace = True)\n",
    "\n",
    "df['SamplingDepth'].fillna('Not_available',inplace=True)\n",
    "df['SamplingThickness'].fillna('Not_available',inplace=True)\n",
    "df['Texture'].fillna('Not_available',inplace=True)\n",
    "\n",
    "df.info()"
   ]
  },
  {
   "cell_type": "code",
   "execution_count": 289,
   "metadata": {},
   "outputs": [
    {
     "name": "stdout",
     "output_type": "stream",
     "text": [
      "(1958, 16)\n"
     ]
    }
   ],
   "source": [
    "X = df.iloc[:,:-2].values\n",
    "Y = df.iloc[:,-2:].values\n",
    "print(X.shape)"
   ]
  },
  {
   "cell_type": "markdown",
   "metadata": {},
   "source": [
    "## Encoding categorical data"
   ]
  },
  {
   "cell_type": "code",
   "execution_count": 290,
   "metadata": {},
   "outputs": [],
   "source": [
    "columns_to_encode = [4,5,8,10,11,12,13,14,15]\n",
    "\n",
    "label_encoder = LabelEncoder()\n",
    "numeric_transformer = MinMaxScaler()  \n",
    "\n",
    "for col_index in columns_to_encode:\n",
    "    X[:, col_index] = label_encoder.fit_transform(X[:, col_index])\n",
    "\n",
    "ct = ColumnTransformer(transformers = [('num', numeric_transformer, [0,1,2,3,6,7,9])], remainder='passthrough')\n",
    "\n",
    "X = np.array(ct.fit_transform(X))\n",
    "Y = np.array(Y)\n",
    "\n"
   ]
  },
  {
   "cell_type": "code",
   "execution_count": 291,
   "metadata": {},
   "outputs": [
    {
     "name": "stdout",
     "output_type": "stream",
     "text": [
      "(1958, 16)\n",
      "(1958, 2)\n"
     ]
    }
   ],
   "source": [
    "print(X.shape)\n",
    "print(Y.shape)"
   ]
  },
  {
   "cell_type": "markdown",
   "metadata": {},
   "source": [
    "## Splitting the Dataset into train and test"
   ]
  },
  {
   "cell_type": "code",
   "execution_count": 292,
   "metadata": {},
   "outputs": [],
   "source": [
    "X_train, X_test, y_train, y_test = train_test_split(X, Y, test_size = 0.2, random_state = 0)"
   ]
  },
  {
   "cell_type": "markdown",
   "metadata": {},
   "source": [
    "## Training the model on the  train dataset"
   ]
  },
  {
   "cell_type": "code",
   "execution_count": 293,
   "metadata": {},
   "outputs": [
    {
     "data": {
      "text/html": [
       "<style>#sk-container-id-7 {color: black;}#sk-container-id-7 pre{padding: 0;}#sk-container-id-7 div.sk-toggleable {background-color: white;}#sk-container-id-7 label.sk-toggleable__label {cursor: pointer;display: block;width: 100%;margin-bottom: 0;padding: 0.3em;box-sizing: border-box;text-align: center;}#sk-container-id-7 label.sk-toggleable__label-arrow:before {content: \"▸\";float: left;margin-right: 0.25em;color: #696969;}#sk-container-id-7 label.sk-toggleable__label-arrow:hover:before {color: black;}#sk-container-id-7 div.sk-estimator:hover label.sk-toggleable__label-arrow:before {color: black;}#sk-container-id-7 div.sk-toggleable__content {max-height: 0;max-width: 0;overflow: hidden;text-align: left;background-color: #f0f8ff;}#sk-container-id-7 div.sk-toggleable__content pre {margin: 0.2em;color: black;border-radius: 0.25em;background-color: #f0f8ff;}#sk-container-id-7 input.sk-toggleable__control:checked~div.sk-toggleable__content {max-height: 200px;max-width: 100%;overflow: auto;}#sk-container-id-7 input.sk-toggleable__control:checked~label.sk-toggleable__label-arrow:before {content: \"▾\";}#sk-container-id-7 div.sk-estimator input.sk-toggleable__control:checked~label.sk-toggleable__label {background-color: #d4ebff;}#sk-container-id-7 div.sk-label input.sk-toggleable__control:checked~label.sk-toggleable__label {background-color: #d4ebff;}#sk-container-id-7 input.sk-hidden--visually {border: 0;clip: rect(1px 1px 1px 1px);clip: rect(1px, 1px, 1px, 1px);height: 1px;margin: -1px;overflow: hidden;padding: 0;position: absolute;width: 1px;}#sk-container-id-7 div.sk-estimator {font-family: monospace;background-color: #f0f8ff;border: 1px dotted black;border-radius: 0.25em;box-sizing: border-box;margin-bottom: 0.5em;}#sk-container-id-7 div.sk-estimator:hover {background-color: #d4ebff;}#sk-container-id-7 div.sk-parallel-item::after {content: \"\";width: 100%;border-bottom: 1px solid gray;flex-grow: 1;}#sk-container-id-7 div.sk-label:hover label.sk-toggleable__label {background-color: #d4ebff;}#sk-container-id-7 div.sk-serial::before {content: \"\";position: absolute;border-left: 1px solid gray;box-sizing: border-box;top: 0;bottom: 0;left: 50%;z-index: 0;}#sk-container-id-7 div.sk-serial {display: flex;flex-direction: column;align-items: center;background-color: white;padding-right: 0.2em;padding-left: 0.2em;position: relative;}#sk-container-id-7 div.sk-item {position: relative;z-index: 1;}#sk-container-id-7 div.sk-parallel {display: flex;align-items: stretch;justify-content: center;background-color: white;position: relative;}#sk-container-id-7 div.sk-item::before, #sk-container-id-7 div.sk-parallel-item::before {content: \"\";position: absolute;border-left: 1px solid gray;box-sizing: border-box;top: 0;bottom: 0;left: 50%;z-index: -1;}#sk-container-id-7 div.sk-parallel-item {display: flex;flex-direction: column;z-index: 1;position: relative;background-color: white;}#sk-container-id-7 div.sk-parallel-item:first-child::after {align-self: flex-end;width: 50%;}#sk-container-id-7 div.sk-parallel-item:last-child::after {align-self: flex-start;width: 50%;}#sk-container-id-7 div.sk-parallel-item:only-child::after {width: 0;}#sk-container-id-7 div.sk-dashed-wrapped {border: 1px dashed gray;margin: 0 0.4em 0.5em 0.4em;box-sizing: border-box;padding-bottom: 0.4em;background-color: white;}#sk-container-id-7 div.sk-label label {font-family: monospace;font-weight: bold;display: inline-block;line-height: 1.2em;}#sk-container-id-7 div.sk-label-container {text-align: center;}#sk-container-id-7 div.sk-container {/* jupyter's `normalize.less` sets `[hidden] { display: none; }` but bootstrap.min.css set `[hidden] { display: none !important; }` so we also need the `!important` here to be able to override the default hidden behavior on the sphinx rendered scikit-learn.org. See: https://github.com/scikit-learn/scikit-learn/issues/21755 */display: inline-block !important;position: relative;}#sk-container-id-7 div.sk-text-repr-fallback {display: none;}</style><div id=\"sk-container-id-7\" class=\"sk-top-container\"><div class=\"sk-text-repr-fallback\"><pre>MultiOutputRegressor(estimator=RandomForestRegressor())</pre><b>In a Jupyter environment, please rerun this cell to show the HTML representation or trust the notebook. <br />On GitHub, the HTML representation is unable to render, please try loading this page with nbviewer.org.</b></div><div class=\"sk-container\" hidden><div class=\"sk-item sk-dashed-wrapped\"><div class=\"sk-label-container\"><div class=\"sk-label sk-toggleable\"><input class=\"sk-toggleable__control sk-hidden--visually\" id=\"sk-estimator-id-19\" type=\"checkbox\" ><label for=\"sk-estimator-id-19\" class=\"sk-toggleable__label sk-toggleable__label-arrow\">MultiOutputRegressor</label><div class=\"sk-toggleable__content\"><pre>MultiOutputRegressor(estimator=RandomForestRegressor())</pre></div></div></div><div class=\"sk-parallel\"><div class=\"sk-parallel-item\"><div class=\"sk-item\"><div class=\"sk-label-container\"><div class=\"sk-label sk-toggleable\"><input class=\"sk-toggleable__control sk-hidden--visually\" id=\"sk-estimator-id-20\" type=\"checkbox\" ><label for=\"sk-estimator-id-20\" class=\"sk-toggleable__label sk-toggleable__label-arrow\">estimator: RandomForestRegressor</label><div class=\"sk-toggleable__content\"><pre>RandomForestRegressor()</pre></div></div></div><div class=\"sk-serial\"><div class=\"sk-item\"><div class=\"sk-estimator sk-toggleable\"><input class=\"sk-toggleable__control sk-hidden--visually\" id=\"sk-estimator-id-21\" type=\"checkbox\" ><label for=\"sk-estimator-id-21\" class=\"sk-toggleable__label sk-toggleable__label-arrow\">RandomForestRegressor</label><div class=\"sk-toggleable__content\"><pre>RandomForestRegressor()</pre></div></div></div></div></div></div></div></div></div></div>"
      ],
      "text/plain": [
       "MultiOutputRegressor(estimator=RandomForestRegressor())"
      ]
     },
     "execution_count": 293,
     "metadata": {},
     "output_type": "execute_result"
    }
   ],
   "source": [
    "base_regressor = RandomForestRegressor()\n",
    "\n",
    "multi_output_regressor = MultiOutputRegressor(base_regressor)\n",
    "multi_output_regressor.fit(X_train, y_train)\n"
   ]
  },
  {
   "cell_type": "markdown",
   "metadata": {},
   "source": [
    "## predicting the test results"
   ]
  },
  {
   "cell_type": "code",
   "execution_count": 294,
   "metadata": {},
   "outputs": [
    {
     "name": "stdout",
     "output_type": "stream",
     "text": [
      "[[2596.28 2777.68 2710.   3360.  ]\n",
      " [7997.   7797.4  7997.   7827.  ]\n",
      " [3483.43 5814.74 4700.   5400.  ]\n",
      " ...\n",
      " [1548.52 2257.77 1093.16 1600.  ]\n",
      " [ 208.64  689.46  221.    639.  ]\n",
      " [ 225.33  261.68  445.    551.  ]]\n"
     ]
    }
   ],
   "source": [
    "y_pred = multi_output_regressor.predict(X_test)\n",
    "np.set_printoptions(precision=2)\n",
    "\n",
    "comparison = np.concatenate((y_pred, y_test), axis=1)\n",
    "print(comparison)"
   ]
  },
  {
   "cell_type": "code",
   "execution_count": 295,
   "metadata": {},
   "outputs": [
    {
     "name": "stdout",
     "output_type": "stream",
     "text": [
      "Yield_C - MSE: 23611937.992251813\n",
      "Yield_T - MSE: 23337045.039268892\n",
      "Overall MSE: 23474491.515760355\n"
     ]
    }
   ],
   "source": [
    "mse_yield_c = mean_squared_error(y_test[:, 0], y_pred[:, 0])\n",
    "mse_yield_t = mean_squared_error(y_test[:, 1], y_pred[:, 1])\n",
    "\n",
    "overall_mse = (mse_yield_c + mse_yield_t) / 2 \n",
    "\n",
    "print(f\"Yield_C - MSE: {mse_yield_c}\")\n",
    "print(f\"Yield_T - MSE: {mse_yield_t}\")\n",
    "print(f\"Overall MSE: {overall_mse}\")"
   ]
  },
  {
   "cell_type": "code",
   "execution_count": 296,
   "metadata": {},
   "outputs": [
    {
     "name": "stdout",
     "output_type": "stream",
     "text": [
      "Yield_C - R2: 0.7917702388090418\n",
      "Yield_T - R2: 0.8003593237196066\n",
      "Overall R2: 0.7960647812643242\n"
     ]
    }
   ],
   "source": [
    "r2_yield_c = r2_score(y_test[:, 0], y_pred[:, 0])\n",
    "r2_yield_t = r2_score(y_test[:, 1], y_pred[:, 1])\n",
    "\n",
    "overall_r2 = (r2_yield_c + r2_yield_t) / 2\n",
    "\n",
    "print(f\"Yield_C - R2: {r2_yield_c}\")\n",
    "print(f\"Yield_T - R2: {r2_yield_t}\")\n",
    "print(f\"Overall R2: {overall_r2}\")"
   ]
  }
 ],
 "metadata": {
  "kernelspec": {
   "display_name": "base",
   "language": "python",
   "name": "python3"
  },
  "language_info": {
   "codemirror_mode": {
    "name": "ipython",
    "version": 3
   },
   "file_extension": ".py",
   "mimetype": "text/x-python",
   "name": "python",
   "nbconvert_exporter": "python",
   "pygments_lexer": "ipython3",
   "version": "3.11.5"
  }
 },
 "nbformat": 4,
 "nbformat_minor": 2
}
