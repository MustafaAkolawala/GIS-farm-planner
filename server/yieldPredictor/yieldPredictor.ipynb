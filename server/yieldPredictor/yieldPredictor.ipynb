{
 "cells": [
  {
   "cell_type": "code",
   "execution_count": 1,
   "id": "3221a060-1c0c-46f9-a3ad-dc600daacdfb",
   "metadata": {},
   "outputs": [],
   "source": [
    "import numpy as np\n",
    "import pandas as pd\n",
    "\n",
    "from sklearn.compose import ColumnTransformer\n",
    "from sklearn.preprocessing import MinMaxScaler\n",
    "from sklearn.model_selection import train_test_split\n",
    "from sklearn.ensemble import RandomForestRegressor\n",
    "from sklearn.metrics import mean_squared_error\n",
    "from sklearn.metrics import r2_score"
   ]
  },
  {
   "cell_type": "code",
   "execution_count": 2,
   "id": "cea8fadc-bfdf-4f2b-b8ab-eb1dff9acf11",
   "metadata": {},
   "outputs": [
    {
     "data": {
      "text/html": [
       "<div>\n",
       "<style scoped>\n",
       "    .dataframe tbody tr th:only-of-type {\n",
       "        vertical-align: middle;\n",
       "    }\n",
       "\n",
       "    .dataframe tbody tr th {\n",
       "        vertical-align: top;\n",
       "    }\n",
       "\n",
       "    .dataframe thead th {\n",
       "        text-align: right;\n",
       "    }\n",
       "</style>\n",
       "<table border=\"1\" class=\"dataframe\">\n",
       "  <thead>\n",
       "    <tr style=\"text-align: right;\">\n",
       "      <th></th>\n",
       "      <th>Crop</th>\n",
       "      <th>Crop_Year</th>\n",
       "      <th>Season</th>\n",
       "      <th>State</th>\n",
       "      <th>Area</th>\n",
       "      <th>Production</th>\n",
       "      <th>Annual_Rainfall</th>\n",
       "      <th>Fertilizer</th>\n",
       "      <th>Pesticide</th>\n",
       "      <th>Yield</th>\n",
       "    </tr>\n",
       "  </thead>\n",
       "  <tbody>\n",
       "    <tr>\n",
       "      <th>0</th>\n",
       "      <td>Arecanut</td>\n",
       "      <td>1997</td>\n",
       "      <td>Whole Year</td>\n",
       "      <td>Assam</td>\n",
       "      <td>73814.0</td>\n",
       "      <td>56708</td>\n",
       "      <td>2051.4</td>\n",
       "      <td>7024878.38</td>\n",
       "      <td>22882.34</td>\n",
       "      <td>0.796087</td>\n",
       "    </tr>\n",
       "    <tr>\n",
       "      <th>1</th>\n",
       "      <td>Arhar/Tur</td>\n",
       "      <td>1997</td>\n",
       "      <td>Kharif</td>\n",
       "      <td>Assam</td>\n",
       "      <td>6637.0</td>\n",
       "      <td>4685</td>\n",
       "      <td>2051.4</td>\n",
       "      <td>631643.29</td>\n",
       "      <td>2057.47</td>\n",
       "      <td>0.710435</td>\n",
       "    </tr>\n",
       "    <tr>\n",
       "      <th>2</th>\n",
       "      <td>Castor seed</td>\n",
       "      <td>1997</td>\n",
       "      <td>Kharif</td>\n",
       "      <td>Assam</td>\n",
       "      <td>796.0</td>\n",
       "      <td>22</td>\n",
       "      <td>2051.4</td>\n",
       "      <td>75755.32</td>\n",
       "      <td>246.76</td>\n",
       "      <td>0.238333</td>\n",
       "    </tr>\n",
       "    <tr>\n",
       "      <th>3</th>\n",
       "      <td>Coconut</td>\n",
       "      <td>1997</td>\n",
       "      <td>Whole Year</td>\n",
       "      <td>Assam</td>\n",
       "      <td>19656.0</td>\n",
       "      <td>126905000</td>\n",
       "      <td>2051.4</td>\n",
       "      <td>1870661.52</td>\n",
       "      <td>6093.36</td>\n",
       "      <td>5238.051739</td>\n",
       "    </tr>\n",
       "    <tr>\n",
       "      <th>4</th>\n",
       "      <td>Cotton(lint)</td>\n",
       "      <td>1997</td>\n",
       "      <td>Kharif</td>\n",
       "      <td>Assam</td>\n",
       "      <td>1739.0</td>\n",
       "      <td>794</td>\n",
       "      <td>2051.4</td>\n",
       "      <td>165500.63</td>\n",
       "      <td>539.09</td>\n",
       "      <td>0.420909</td>\n",
       "    </tr>\n",
       "  </tbody>\n",
       "</table>\n",
       "</div>"
      ],
      "text/plain": [
       "           Crop  Crop_Year       Season  State     Area  Production  \\\n",
       "0      Arecanut       1997  Whole Year   Assam  73814.0       56708   \n",
       "1     Arhar/Tur       1997  Kharif       Assam   6637.0        4685   \n",
       "2   Castor seed       1997  Kharif       Assam    796.0          22   \n",
       "3      Coconut        1997  Whole Year   Assam  19656.0   126905000   \n",
       "4  Cotton(lint)       1997  Kharif       Assam   1739.0         794   \n",
       "\n",
       "   Annual_Rainfall  Fertilizer  Pesticide        Yield  \n",
       "0           2051.4  7024878.38   22882.34     0.796087  \n",
       "1           2051.4   631643.29    2057.47     0.710435  \n",
       "2           2051.4    75755.32     246.76     0.238333  \n",
       "3           2051.4  1870661.52    6093.36  5238.051739  \n",
       "4           2051.4   165500.63     539.09     0.420909  "
      ]
     },
     "execution_count": 2,
     "metadata": {},
     "output_type": "execute_result"
    }
   ],
   "source": [
    "df = pd.read_csv('crop_yield.csv')\n",
    "df.head()"
   ]
  },
  {
   "cell_type": "code",
   "execution_count": 3,
   "id": "d1c363e3-d50e-427c-89d2-40db3bb55eca",
   "metadata": {},
   "outputs": [
    {
     "name": "stdout",
     "output_type": "stream",
     "text": [
      "<class 'pandas.core.frame.DataFrame'>\n",
      "RangeIndex: 19689 entries, 0 to 19688\n",
      "Data columns (total 10 columns):\n",
      " #   Column           Non-Null Count  Dtype  \n",
      "---  ------           --------------  -----  \n",
      " 0   Crop             19689 non-null  object \n",
      " 1   Crop_Year        19689 non-null  int64  \n",
      " 2   Season           19689 non-null  object \n",
      " 3   State            19689 non-null  object \n",
      " 4   Area             19689 non-null  float64\n",
      " 5   Production       19689 non-null  int64  \n",
      " 6   Annual_Rainfall  19689 non-null  float64\n",
      " 7   Fertilizer       19689 non-null  float64\n",
      " 8   Pesticide        19689 non-null  float64\n",
      " 9   Yield            19689 non-null  float64\n",
      "dtypes: float64(5), int64(2), object(3)\n",
      "memory usage: 1.5+ MB\n"
     ]
    }
   ],
   "source": [
    "df.info()"
   ]
  },
  {
   "cell_type": "code",
   "execution_count": 4,
   "id": "abc0327d-9e23-4671-a6f0-72efdc494846",
   "metadata": {},
   "outputs": [
    {
     "data": {
      "text/plain": [
       "array(['Whole Year ', 'Kharif     ', 'Rabi       ', 'Autumn     ',\n",
       "       'Summer     ', 'Winter     '], dtype=object)"
      ]
     },
     "execution_count": 4,
     "metadata": {},
     "output_type": "execute_result"
    }
   ],
   "source": [
    "df['Season'].unique()"
   ]
  },
  {
   "cell_type": "code",
   "execution_count": 5,
   "id": "b8613d6b-b21b-47c3-b67a-a4d226029ec2",
   "metadata": {},
   "outputs": [
    {
     "data": {
      "text/plain": [
       "array(['Assam', 'Karnataka', 'Kerala', 'Meghalaya', 'West Bengal',\n",
       "       'Puducherry', 'Goa', 'Andhra Pradesh', 'Tamil Nadu', 'Odisha',\n",
       "       'Bihar', 'Gujarat', 'Madhya Pradesh', 'Maharashtra', 'Mizoram',\n",
       "       'Punjab', 'Uttar Pradesh', 'Haryana', 'Himachal Pradesh',\n",
       "       'Tripura', 'Nagaland', 'Chhattisgarh', 'Uttarakhand', 'Jharkhand',\n",
       "       'Delhi', 'Manipur', 'Jammu and Kashmir', 'Telangana',\n",
       "       'Arunachal Pradesh', 'Sikkim'], dtype=object)"
      ]
     },
     "execution_count": 5,
     "metadata": {},
     "output_type": "execute_result"
    }
   ],
   "source": [
    "df['State'].unique()"
   ]
  },
  {
   "cell_type": "code",
   "execution_count": 6,
   "id": "2dbc6db4-cad4-4936-94f9-2352ede992f4",
   "metadata": {},
   "outputs": [
    {
     "data": {
      "text/plain": [
       "array(['Arecanut', 'Arhar/Tur', 'Castor seed', 'Coconut ', 'Cotton(lint)',\n",
       "       'Dry chillies', 'Gram', 'Jute', 'Linseed', 'Maize', 'Mesta',\n",
       "       'Niger seed', 'Onion', 'Other  Rabi pulses', 'Potato',\n",
       "       'Rapeseed &Mustard', 'Rice', 'Sesamum', 'Small millets',\n",
       "       'Sugarcane', 'Sweet potato', 'Tapioca', 'Tobacco', 'Turmeric',\n",
       "       'Wheat', 'Bajra', 'Black pepper', 'Cardamom', 'Coriander',\n",
       "       'Garlic', 'Ginger', 'Groundnut', 'Horse-gram', 'Jowar', 'Ragi',\n",
       "       'Cashewnut', 'Banana', 'Soyabean', 'Barley', 'Khesari', 'Masoor',\n",
       "       'Moong(Green Gram)', 'Other Kharif pulses', 'Safflower',\n",
       "       'Sannhamp', 'Sunflower', 'Urad', 'Peas & beans (Pulses)',\n",
       "       'other oilseeds', 'Other Cereals', 'Cowpea(Lobia)',\n",
       "       'Oilseeds total', 'Guar seed', 'Other Summer Pulses', 'Moth'],\n",
       "      dtype=object)"
      ]
     },
     "execution_count": 6,
     "metadata": {},
     "output_type": "execute_result"
    }
   ],
   "source": [
    "df['Crop'].unique()"
   ]
  },
  {
   "cell_type": "code",
   "execution_count": 7,
   "id": "77c3490b-e605-4dd4-bb76-53779bab700f",
   "metadata": {},
   "outputs": [
    {
     "data": {
      "text/plain": [
       "Crop\n",
       "Rice                     1197\n",
       "Maize                     975\n",
       "Moong(Green Gram)         740\n",
       "Urad                      733\n",
       "Groundnut                 725\n",
       "Sesamum                   685\n",
       "Potato                    628\n",
       "Sugarcane                 605\n",
       "Wheat                     545\n",
       "Rapeseed &Mustard         528\n",
       "Bajra                     524\n",
       "Jowar                     513\n",
       "Arhar/Tur                 508\n",
       "Ragi                      498\n",
       "Gram                      490\n",
       "Small millets             485\n",
       "Cotton(lint)              476\n",
       "Onion                     454\n",
       "Sunflower                 441\n",
       "Dry chillies              419\n",
       "Other Kharif pulses       382\n",
       "Horse-gram                371\n",
       "Peas & beans (Pulses)     369\n",
       "Tobacco                   364\n",
       "Other  Rabi pulses        355\n",
       "Soyabean                  349\n",
       "Turmeric                  337\n",
       "Masoor                    324\n",
       "Ginger                    323\n",
       "Linseed                   308\n",
       "Castor seed               300\n",
       "Barley                    297\n",
       "Sweet potato              273\n",
       "Garlic                    250\n",
       "Banana                    245\n",
       "Mesta                     210\n",
       "Tapioca                   201\n",
       "Coriander                 199\n",
       "Niger seed                192\n",
       "Jute                      181\n",
       "Coconut                   172\n",
       "Safflower                 169\n",
       "Arecanut                  162\n",
       "Sannhamp                  160\n",
       "Other Cereals             146\n",
       "Cowpea(Lobia)             134\n",
       "Cashewnut                 134\n",
       "Black pepper              126\n",
       "other oilseeds            126\n",
       "Moth                      110\n",
       "Khesari                    75\n",
       "Cardamom                   74\n",
       "Guar seed                  63\n",
       "Oilseeds total             29\n",
       "Other Summer Pulses        10\n",
       "Name: count, dtype: int64"
      ]
     },
     "execution_count": 7,
     "metadata": {},
     "output_type": "execute_result"
    }
   ],
   "source": [
    "df['Crop'].value_counts()"
   ]
  },
  {
   "cell_type": "code",
   "execution_count": 8,
   "id": "16a418ac-bb40-4a46-af1c-69fb119656fe",
   "metadata": {},
   "outputs": [],
   "source": [
    "df.drop(df.index[df['Crop'].isin(['Other Summer Pulses', 'Other  Rabi pulses', 'Other Kharif pulses'])], inplace=True)"
   ]
  },
  {
   "cell_type": "code",
   "execution_count": 9,
   "id": "f4a800d4-b718-481e-952b-8b856840aa9b",
   "metadata": {},
   "outputs": [
    {
     "data": {
      "text/plain": [
       "array(['Arecanut', 'Arhar/Tur', 'Castor seed', 'Coconut ', 'Cotton(lint)',\n",
       "       'Dry chillies', 'Gram', 'Jute', 'Linseed', 'Maize', 'Mesta',\n",
       "       'Niger seed', 'Onion', 'Potato', 'Rapeseed &Mustard', 'Rice',\n",
       "       'Sesamum', 'Small millets', 'Sugarcane', 'Sweet potato', 'Tapioca',\n",
       "       'Tobacco', 'Turmeric', 'Wheat', 'Bajra', 'Black pepper',\n",
       "       'Cardamom', 'Coriander', 'Garlic', 'Ginger', 'Groundnut',\n",
       "       'Horse-gram', 'Jowar', 'Ragi', 'Cashewnut', 'Banana', 'Soyabean',\n",
       "       'Barley', 'Khesari', 'Masoor', 'Moong(Green Gram)', 'Safflower',\n",
       "       'Sannhamp', 'Sunflower', 'Urad', 'Peas & beans (Pulses)',\n",
       "       'other oilseeds', 'Other Cereals', 'Cowpea(Lobia)',\n",
       "       'Oilseeds total', 'Guar seed', 'Moth'], dtype=object)"
      ]
     },
     "execution_count": 9,
     "metadata": {},
     "output_type": "execute_result"
    }
   ],
   "source": [
    "df['Crop'].unique()"
   ]
  },
  {
   "cell_type": "code",
   "execution_count": 10,
   "id": "6ded0c0d-6b32-4dfa-9351-7752bec730ce",
   "metadata": {},
   "outputs": [
    {
     "data": {
      "text/plain": [
       "189420"
      ]
     },
     "execution_count": 10,
     "metadata": {},
     "output_type": "execute_result"
    }
   ],
   "source": [
    "df.size"
   ]
  },
  {
   "cell_type": "code",
   "execution_count": 11,
   "id": "761df850-2b6f-48a5-b011-29284da94f5a",
   "metadata": {},
   "outputs": [
    {
     "data": {
      "text/html": [
       "<div>\n",
       "<style scoped>\n",
       "    .dataframe tbody tr th:only-of-type {\n",
       "        vertical-align: middle;\n",
       "    }\n",
       "\n",
       "    .dataframe tbody tr th {\n",
       "        vertical-align: top;\n",
       "    }\n",
       "\n",
       "    .dataframe thead th {\n",
       "        text-align: right;\n",
       "    }\n",
       "</style>\n",
       "<table border=\"1\" class=\"dataframe\">\n",
       "  <thead>\n",
       "    <tr style=\"text-align: right;\">\n",
       "      <th></th>\n",
       "      <th>Crop_Year</th>\n",
       "      <th>Area</th>\n",
       "      <th>Production</th>\n",
       "      <th>Annual_Rainfall</th>\n",
       "      <th>Fertilizer</th>\n",
       "      <th>Pesticide</th>\n",
       "      <th>Yield</th>\n",
       "    </tr>\n",
       "  </thead>\n",
       "  <tbody>\n",
       "    <tr>\n",
       "      <th>count</th>\n",
       "      <td>18942.000000</td>\n",
       "      <td>1.894200e+04</td>\n",
       "      <td>1.894200e+04</td>\n",
       "      <td>18942.000000</td>\n",
       "      <td>1.894200e+04</td>\n",
       "      <td>1.894200e+04</td>\n",
       "      <td>18942.000000</td>\n",
       "    </tr>\n",
       "    <tr>\n",
       "      <th>mean</th>\n",
       "      <td>2009.117992</td>\n",
       "      <td>1.857942e+05</td>\n",
       "      <td>1.708349e+07</td>\n",
       "      <td>1432.762949</td>\n",
       "      <td>2.490821e+07</td>\n",
       "      <td>5.045587e+04</td>\n",
       "      <td>83.077903</td>\n",
       "    </tr>\n",
       "    <tr>\n",
       "      <th>std</th>\n",
       "      <td>6.498985</td>\n",
       "      <td>7.462630e+05</td>\n",
       "      <td>2.681733e+08</td>\n",
       "      <td>816.626293</td>\n",
       "      <td>9.668837e+07</td>\n",
       "      <td>2.172348e+05</td>\n",
       "      <td>895.314504</td>\n",
       "    </tr>\n",
       "    <tr>\n",
       "      <th>min</th>\n",
       "      <td>1997.000000</td>\n",
       "      <td>5.000000e-01</td>\n",
       "      <td>0.000000e+00</td>\n",
       "      <td>301.300000</td>\n",
       "      <td>5.417000e+01</td>\n",
       "      <td>9.000000e-02</td>\n",
       "      <td>0.000000</td>\n",
       "    </tr>\n",
       "    <tr>\n",
       "      <th>25%</th>\n",
       "      <td>2004.000000</td>\n",
       "      <td>1.418250e+03</td>\n",
       "      <td>1.465000e+03</td>\n",
       "      <td>935.600000</td>\n",
       "      <td>1.916853e+05</td>\n",
       "      <td>3.637300e+02</td>\n",
       "      <td>0.606104</td>\n",
       "    </tr>\n",
       "    <tr>\n",
       "      <th>50%</th>\n",
       "      <td>2010.000000</td>\n",
       "      <td>9.838000e+03</td>\n",
       "      <td>1.539900e+04</td>\n",
       "      <td>1246.200000</td>\n",
       "      <td>1.301196e+06</td>\n",
       "      <td>2.541220e+03</td>\n",
       "      <td>1.065486</td>\n",
       "    </tr>\n",
       "    <tr>\n",
       "      <th>75%</th>\n",
       "      <td>2015.000000</td>\n",
       "      <td>7.937725e+04</td>\n",
       "      <td>1.324715e+05</td>\n",
       "      <td>1635.900000</td>\n",
       "      <td>1.053392e+07</td>\n",
       "      <td>2.095453e+04</td>\n",
       "      <td>2.500000</td>\n",
       "    </tr>\n",
       "    <tr>\n",
       "      <th>max</th>\n",
       "      <td>2020.000000</td>\n",
       "      <td>5.080810e+07</td>\n",
       "      <td>6.326000e+09</td>\n",
       "      <td>6552.700000</td>\n",
       "      <td>4.835407e+09</td>\n",
       "      <td>1.575051e+07</td>\n",
       "      <td>21105.000000</td>\n",
       "    </tr>\n",
       "  </tbody>\n",
       "</table>\n",
       "</div>"
      ],
      "text/plain": [
       "          Crop_Year          Area    Production  Annual_Rainfall  \\\n",
       "count  18942.000000  1.894200e+04  1.894200e+04     18942.000000   \n",
       "mean    2009.117992  1.857942e+05  1.708349e+07      1432.762949   \n",
       "std        6.498985  7.462630e+05  2.681733e+08       816.626293   \n",
       "min     1997.000000  5.000000e-01  0.000000e+00       301.300000   \n",
       "25%     2004.000000  1.418250e+03  1.465000e+03       935.600000   \n",
       "50%     2010.000000  9.838000e+03  1.539900e+04      1246.200000   \n",
       "75%     2015.000000  7.937725e+04  1.324715e+05      1635.900000   \n",
       "max     2020.000000  5.080810e+07  6.326000e+09      6552.700000   \n",
       "\n",
       "         Fertilizer     Pesticide         Yield  \n",
       "count  1.894200e+04  1.894200e+04  18942.000000  \n",
       "mean   2.490821e+07  5.045587e+04     83.077903  \n",
       "std    9.668837e+07  2.172348e+05    895.314504  \n",
       "min    5.417000e+01  9.000000e-02      0.000000  \n",
       "25%    1.916853e+05  3.637300e+02      0.606104  \n",
       "50%    1.301196e+06  2.541220e+03      1.065486  \n",
       "75%    1.053392e+07  2.095453e+04      2.500000  \n",
       "max    4.835407e+09  1.575051e+07  21105.000000  "
      ]
     },
     "execution_count": 11,
     "metadata": {},
     "output_type": "execute_result"
    }
   ],
   "source": [
    "df.describe()"
   ]
  },
  {
   "cell_type": "code",
   "execution_count": 12,
   "id": "63e95ab2-2902-4956-b320-29fe0fc95e51",
   "metadata": {},
   "outputs": [
    {
     "data": {
      "text/html": [
       "<div>\n",
       "<style scoped>\n",
       "    .dataframe tbody tr th:only-of-type {\n",
       "        vertical-align: middle;\n",
       "    }\n",
       "\n",
       "    .dataframe tbody tr th {\n",
       "        vertical-align: top;\n",
       "    }\n",
       "\n",
       "    .dataframe thead th {\n",
       "        text-align: right;\n",
       "    }\n",
       "</style>\n",
       "<table border=\"1\" class=\"dataframe\">\n",
       "  <thead>\n",
       "    <tr style=\"text-align: right;\">\n",
       "      <th></th>\n",
       "      <th>Crop</th>\n",
       "      <th>Crop_Year</th>\n",
       "      <th>Season</th>\n",
       "      <th>State</th>\n",
       "      <th>Area</th>\n",
       "      <th>Production</th>\n",
       "      <th>Annual_Rainfall</th>\n",
       "      <th>Fertilizer</th>\n",
       "      <th>Pesticide</th>\n",
       "      <th>Yield</th>\n",
       "    </tr>\n",
       "  </thead>\n",
       "  <tbody>\n",
       "    <tr>\n",
       "      <th>0</th>\n",
       "      <td>0</td>\n",
       "      <td>1997</td>\n",
       "      <td>0</td>\n",
       "      <td>0</td>\n",
       "      <td>73814.0</td>\n",
       "      <td>56708</td>\n",
       "      <td>2051.4</td>\n",
       "      <td>7024878.38</td>\n",
       "      <td>22882.34</td>\n",
       "      <td>0.796087</td>\n",
       "    </tr>\n",
       "    <tr>\n",
       "      <th>1</th>\n",
       "      <td>1</td>\n",
       "      <td>1997</td>\n",
       "      <td>1</td>\n",
       "      <td>0</td>\n",
       "      <td>6637.0</td>\n",
       "      <td>4685</td>\n",
       "      <td>2051.4</td>\n",
       "      <td>631643.29</td>\n",
       "      <td>2057.47</td>\n",
       "      <td>0.710435</td>\n",
       "    </tr>\n",
       "    <tr>\n",
       "      <th>2</th>\n",
       "      <td>2</td>\n",
       "      <td>1997</td>\n",
       "      <td>1</td>\n",
       "      <td>0</td>\n",
       "      <td>796.0</td>\n",
       "      <td>22</td>\n",
       "      <td>2051.4</td>\n",
       "      <td>75755.32</td>\n",
       "      <td>246.76</td>\n",
       "      <td>0.238333</td>\n",
       "    </tr>\n",
       "    <tr>\n",
       "      <th>3</th>\n",
       "      <td>3</td>\n",
       "      <td>1997</td>\n",
       "      <td>0</td>\n",
       "      <td>0</td>\n",
       "      <td>19656.0</td>\n",
       "      <td>126905000</td>\n",
       "      <td>2051.4</td>\n",
       "      <td>1870661.52</td>\n",
       "      <td>6093.36</td>\n",
       "      <td>5238.051739</td>\n",
       "    </tr>\n",
       "    <tr>\n",
       "      <th>4</th>\n",
       "      <td>4</td>\n",
       "      <td>1997</td>\n",
       "      <td>1</td>\n",
       "      <td>0</td>\n",
       "      <td>1739.0</td>\n",
       "      <td>794</td>\n",
       "      <td>2051.4</td>\n",
       "      <td>165500.63</td>\n",
       "      <td>539.09</td>\n",
       "      <td>0.420909</td>\n",
       "    </tr>\n",
       "  </tbody>\n",
       "</table>\n",
       "</div>"
      ],
      "text/plain": [
       "   Crop  Crop_Year  Season  State     Area  Production  Annual_Rainfall  \\\n",
       "0     0       1997       0      0  73814.0       56708           2051.4   \n",
       "1     1       1997       1      0   6637.0        4685           2051.4   \n",
       "2     2       1997       1      0    796.0          22           2051.4   \n",
       "3     3       1997       0      0  19656.0   126905000           2051.4   \n",
       "4     4       1997       1      0   1739.0         794           2051.4   \n",
       "\n",
       "   Fertilizer  Pesticide        Yield  \n",
       "0  7024878.38   22882.34     0.796087  \n",
       "1   631643.29    2057.47     0.710435  \n",
       "2    75755.32     246.76     0.238333  \n",
       "3  1870661.52    6093.36  5238.051739  \n",
       "4   165500.63     539.09     0.420909  "
      ]
     },
     "execution_count": 12,
     "metadata": {},
     "output_type": "execute_result"
    }
   ],
   "source": [
    "a = [x for x in range(100)]\n",
    "labels = [\n",
    "    dict(zip(df[\"Crop\"].unique(), a)),\n",
    "    dict(zip(df[\"Season\"].unique(), a)),\n",
    "    dict(zip(df[\"State\"].unique(), a))\n",
    "]\n",
    "\n",
    "df[\"Crop\"] = df[\"Crop\"].map(labels[0])\n",
    "df[\"Season\"] = df[\"Season\"].map(labels[1])\n",
    "df[\"State\"] = df[\"State\"].map(labels[2])\n",
    "\n",
    "df.head()"
   ]
  },
  {
   "cell_type": "code",
   "execution_count": 13,
   "id": "d5a5167f-61e0-4a66-a16d-32486c1c3291",
   "metadata": {},
   "outputs": [],
   "source": [
    "minMax = MinMaxScaler()\n",
    "ct = ColumnTransformer(transformers=[('MMS', minMax, [1, 4, 5, 6, 7, 8])], remainder='passthrough')"
   ]
  },
  {
   "cell_type": "code",
   "execution_count": 14,
   "id": "77593b5e-30e7-488b-8b5f-960be5bbd714",
   "metadata": {},
   "outputs": [],
   "source": [
    "X = ct.fit_transform(df.drop('Yield', axis=1))\n",
    "y = df['Yield']"
   ]
  },
  {
   "cell_type": "code",
   "execution_count": 21,
   "id": "30561c01-c69b-4627-9367-07e3ed4ba5ed",
   "metadata": {},
   "outputs": [],
   "source": [
    "X_train, X_test, y_train, y_test = train_test_split(X, y, test_size=0.2, shuffle=True)"
   ]
  },
  {
   "cell_type": "code",
   "execution_count": 22,
   "id": "ff038c35-74b2-45e2-a36b-244f8951f6e0",
   "metadata": {},
   "outputs": [],
   "source": [
    "rf = RandomForestRegressor()\n",
    "model = rf.fit(X_train, y_train)"
   ]
  },
  {
   "cell_type": "code",
   "execution_count": 23,
   "id": "635f973c-688e-476a-8346-58dae533acdd",
   "metadata": {},
   "outputs": [
    {
     "name": "stdout",
     "output_type": "stream",
     "text": [
      "MSE:  16784.633776456376\n",
      "r2 score:  0.98271312503144\n",
      "MSE:  4370.756448697075\n",
      "r2 score:  0.9942421718677432\n"
     ]
    }
   ],
   "source": [
    "y_pred = model.predict(X_test)\n",
    "print(\"MSE: \", mean_squared_error(y_test, y_pred))\n",
    "print(\"r2 score: \", r2_score(y_test, y_pred))\n",
    "\n",
    "y_pred_train = model.predict(X_train)\n",
    "print(\"MSE: \", mean_squared_error(y_train, y_pred_train))\n",
    "print(\"r2 score: \", r2_score(y_train, y_pred_train))"
   ]
  },
  {
   "cell_type": "code",
   "execution_count": 25,
   "id": "ea7db2df-d328-4c1d-822f-fb71dde0a410",
   "metadata": {},
   "outputs": [
    {
     "data": {
      "text/plain": [
       "['colTrans.jbl.lzma']"
      ]
     },
     "execution_count": 25,
     "metadata": {},
     "output_type": "execute_result"
    }
   ],
   "source": [
    "import joblib\n",
    "\n",
    "joblib.dump(model, \"model.jbl.lzma\")\n",
    "joblib.dump(ct, \"colTrans.jbl.lzma\")"
   ]
  }
 ],
 "metadata": {
  "kernelspec": {
   "display_name": "codsoft",
   "language": "python",
   "name": "codsoft"
  },
  "language_info": {
   "codemirror_mode": {
    "name": "ipython",
    "version": 3
   },
   "file_extension": ".py",
   "mimetype": "text/x-python",
   "name": "python",
   "nbconvert_exporter": "python",
   "pygments_lexer": "ipython3",
   "version": "3.11.6"
  }
 },
 "nbformat": 4,
 "nbformat_minor": 5
}
